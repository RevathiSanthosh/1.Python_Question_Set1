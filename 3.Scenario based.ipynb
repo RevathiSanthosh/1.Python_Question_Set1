{
 "cells": [
  {
   "cell_type": "code",
   "execution_count": 2,
   "id": "6f242661-bec2-458a-a986-688824a749ea",
   "metadata": {},
   "outputs": [],
   "source": [
    "# A system checks if a user is eligible to vote based on their age.\n",
    "def Elegible():\n",
    "    Age =  int(input(\"Enter Your Age :\"))\n",
    "    if(Age >= 18):\n",
    "        print(\"ELIGIBLE\")\n",
    "    else:\n",
    "        print(\"NOT ELIGIBLE\")    \n",
    "    "
   ]
  },
  {
   "cell_type": "code",
   "execution_count": 3,
   "id": "0dca66d0-26eb-485e-b2d2-52220ae1d935",
   "metadata": {},
   "outputs": [
    {
     "name": "stdin",
     "output_type": "stream",
     "text": [
      "Enter Your Age : 32\n"
     ]
    },
    {
     "name": "stdout",
     "output_type": "stream",
     "text": [
      "ELIGIBLE\n"
     ]
    }
   ],
   "source": [
    "Elegible()"
   ]
  },
  {
   "cell_type": "code",
   "execution_count": 3,
   "id": "a4dfeafd-97bf-4b7f-9f9b-ebb2f58ccd1b",
   "metadata": {},
   "outputs": [
    {
     "name": "stdout",
     "output_type": "stream",
     "text": [
      "Largest number is : 89\n"
     ]
    }
   ],
   "source": [
    "#A program processes a list of numbers and needs to find the largest value.\n",
    "\n",
    "list =[3,4,1,67,43,21,11,89,23]\n",
    "largest = list[0]\n",
    "for i in list:\n",
    "    if(i>largest):\n",
    "        largest = i\n",
    "print(\"Largest number is :\",largest)\n"
   ]
  },
  {
   "cell_type": "code",
   "execution_count": 6,
   "id": "47f79537-7a02-40aa-a614-e54d4a647edd",
   "metadata": {},
   "outputs": [
    {
     "name": "stdin",
     "output_type": "stream",
     "text": [
      "Enter Salary:  67000\n"
     ]
    },
    {
     "name": "stdout",
     "output_type": "stream",
     "text": [
      "Bounus amount is : 6700.0\n"
     ]
    }
   ],
   "source": [
    "#: A company provides employees with a 10% bonus if their salary exceeds $50,000.\n",
    "# Write logic to determine the bonus amount based on the given salary.\n",
    "salary = float(input(\"Enter Salary: \"))\n",
    "bonus = salary/10\n",
    "if(salary > 50000):\n",
    "    print(\"Bounus amount is :\",bonus)\n",
    "else:\n",
    "    print(\"No Bounus\")"
   ]
  },
  {
   "cell_type": "code",
   "execution_count": 26,
   "id": "3385fab6-c5ef-47a1-bbf5-5febd03d177e",
   "metadata": {},
   "outputs": [
    {
     "name": "stdin",
     "output_type": "stream",
     "text": [
      "Enter a number:  21\n"
     ]
    },
    {
     "name": "stdout",
     "output_type": "stream",
     "text": [
      "21 is Odd number\n"
     ]
    }
   ],
   "source": [
    "#: A program evaluates a number to determine if it is even or odd.\n",
    "# Write logic to check whether a given number is even or odd.\n",
    "\n",
    "num1 = int(input(\"Enter a number: \"))\n",
    "if(num1 % 2 == 0):\n",
    "      print(str(num1)+ \" is Even number\")\n",
    "else:\n",
    "     print(str(num1)+ \" is Odd number\")\n",
    "    \n",
    "      \n",
    "           "
   ]
  },
  {
   "cell_type": "code",
   "execution_count": 28,
   "id": "e0154102-a12c-4bb4-8755-be5905541849",
   "metadata": {},
   "outputs": [
    {
     "name": "stdout",
     "output_type": "stream",
     "text": [
      "Reversed string is : IA  IPOH OLLEH\n"
     ]
    }
   ],
   "source": [
    " #: A text-processing tool reverses a given word or sentence for formatting purposes.\n",
    "# Write logic to take a word or sentence as input and produce its reversed version.\n",
    "\n",
    "string1=\"HELLO HOPI  AI\"\n",
    "reverse_string = string1[::-1]\n",
    "print(\"Reversed string is :\",reverse_string)\n",
    "\n",
    "\n",
    "       "
   ]
  },
  {
   "cell_type": "code",
   "execution_count": 31,
   "id": "6319b495-f415-44ae-be51-dd5131d4d881",
   "metadata": {},
   "outputs": [
    {
     "name": "stdin",
     "output_type": "stream",
     "text": [
      "Enter the subject mark : 40\n"
     ]
    },
    {
     "name": "stdout",
     "output_type": "stream",
     "text": [
      "Pass\n"
     ]
    }
   ],
   "source": [
    "#: A grading system determines whether a student has passed or failed based on their score.\n",
    "# Write logic to check if a student has passed a subject by scoring at least 40 marks.\n",
    "Mark = int(input(\"Enter the subject mark :\"))\n",
    "\n",
    "if(Mark >= 75):\n",
    "    print(\"Pass with Grade A\")\n",
    "elif(Mark>=60 and Mark <75):\n",
    "    print(\"Pass with Grade B\")\n",
    "elif(Mark>40 and Mark <60):\n",
    "    print(\"Pass with Grade C\")\n",
    "elif(Mark == 40):\n",
    "    print(\"Pass\")\n",
    "else:\n",
    "    print(\"Fail\")"
   ]
  },
  {
   "cell_type": "code",
   "execution_count": 35,
   "id": "09381708-173c-45aa-9d9d-e7953d5b59f2",
   "metadata": {},
   "outputs": [
    {
     "name": "stdin",
     "output_type": "stream",
     "text": [
      "Enter the purchase amount : 80\n"
     ]
    },
    {
     "name": "stdout",
     "output_type": "stream",
     "text": [
      "Amount to be paid : 80\n"
     ]
    }
   ],
   "source": [
    "#A \n",
    "#retail store offers a 20% discount if a customer’s total order exceeds $100. \n",
    "#Write logic to calculate the final amount to be paid after applying the discount.\n",
    "orderAmount = int(input(\"Enter the purchase amount :\"))\n",
    "finalAmount = orderAmount\n",
    "if(orderAmount >= 100):\n",
    "    discount = orderAmount/20\n",
    "    finalAmount = orderAmount - discount\n",
    "print(\"Amount to be paid :\",finalAmount)"
   ]
  },
  {
   "cell_type": "code",
   "execution_count": 37,
   "id": "a42443f8-7a30-4068-913a-2e8412bbfddb",
   "metadata": {},
   "outputs": [
    {
     "name": "stdin",
     "output_type": "stream",
     "text": [
      "Enter amount to be withdrawal : 20000\n"
     ]
    },
    {
     "name": "stdout",
     "output_type": "stream",
     "text": [
      "You dont have enough money\n",
      "Your Current balance is : 10000\n"
     ]
    }
   ],
   "source": [
    "#A banking system processes withdrawal requests and ensures the user has enough balance.\n",
    "# Write logic to check if a user has enough balance before allowing a withdrawal and update the remaining balance accordingly.\n",
    "balance=10000\n",
    "withDrawal = int(input(\"Enter amount to be withdrawal :\"))\n",
    "if(withDrawal > balance):\n",
    "    print(\"You dont have enough money\")\n",
    "else:\n",
    "    balance = balance - withDrawal\n",
    "print(\"Your Current balance is :\",balance)\n"
   ]
  },
  {
   "cell_type": "code",
   "execution_count": 41,
   "id": "67e3efa5-b9d8-4a2e-8fb8-e225a0df87ba",
   "metadata": {},
   "outputs": [
    {
     "name": "stdin",
     "output_type": "stream",
     "text": [
      "Enter the Year : 2025\n"
     ]
    },
    {
     "name": "stdout",
     "output_type": "stream",
     "text": [
      "2025 is not a Leap Year!\n"
     ]
    }
   ],
   "source": [
    "#: A calendar system verifies whether a given year is a leap year based on standard leap year rules.\n",
    "# Write logic to determine whether a given year is a leap year\n",
    "Year = int(input(\"Enter the Year :\"))\n",
    "if(Year % 4 == 0 and Year % 100 !=0) or (Year % 400 == 0):\n",
    "    print(str(Year)+\" is Leap Year!\")\n",
    "else:\n",
    "     print(str(Year)+\" is not a Leap Year!\")"
   ]
  },
  {
   "cell_type": "code",
   "execution_count": 42,
   "id": "bebf1379-32db-4e1f-bce8-8c40f45fe921",
   "metadata": {},
   "outputs": [
    {
     "name": "stdout",
     "output_type": "stream",
     "text": [
      "2\n",
      "4\n",
      "6\n",
      "8\n",
      "24\n",
      "56\n"
     ]
    }
   ],
   "source": [
    "#A program filters out only even numbers from a given list.\n",
    "# Write logic to extract and return only the even numbers from a list.\n",
    "List = [1,2,3,4,5,6,7,8,9,24,56,11,33,55,43]\n",
    "for i in List:\n",
    "    if(i % 2 == 0):\n",
    "        print(i)\n",
    "    \n",
    "    \n"
   ]
  },
  {
   "cell_type": "code",
   "execution_count": null,
   "id": "c04345e8-f08e-4c15-a39e-fe1607b5c5fd",
   "metadata": {},
   "outputs": [],
   "source": []
  }
 ],
 "metadata": {
  "kernelspec": {
   "display_name": "Python 3 (ipykernel)",
   "language": "python",
   "name": "python3"
  },
  "language_info": {
   "codemirror_mode": {
    "name": "ipython",
    "version": 3
   },
   "file_extension": ".py",
   "mimetype": "text/x-python",
   "name": "python",
   "nbconvert_exporter": "python",
   "pygments_lexer": "ipython3",
   "version": "3.13.5"
  }
 },
 "nbformat": 4,
 "nbformat_minor": 5
}
