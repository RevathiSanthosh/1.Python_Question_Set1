{
 "cells": [
  {
   "cell_type": "code",
   "execution_count": 2,
   "id": "6f242661-bec2-458a-a986-688824a749ea",
   "metadata": {},
   "outputs": [],
   "source": [
    "# A system checks if a user is eligible to vote based on their age.\n",
    "def Elegible():\n",
    "    Age =  int(input(\"Enter Your Age :\"))\n",
    "    if(Age >= 18):\n",
    "        print(\"ELIGIBLE\")\n",
    "    else:\n",
    "        print(\"NOT ELIGIBLE\")    \n",
    "    "
   ]
  },
  {
   "cell_type": "code",
   "execution_count": 3,
   "id": "0dca66d0-26eb-485e-b2d2-52220ae1d935",
   "metadata": {},
   "outputs": [
    {
     "name": "stdin",
     "output_type": "stream",
     "text": [
      "Enter Your Age : 32\n"
     ]
    },
    {
     "name": "stdout",
     "output_type": "stream",
     "text": [
      "ELIGIBLE\n"
     ]
    }
   ],
   "source": [
    "Elegible()"
   ]
  },
  {
   "cell_type": "code",
   "execution_count": 3,
   "id": "a4dfeafd-97bf-4b7f-9f9b-ebb2f58ccd1b",
   "metadata": {},
   "outputs": [
    {
     "name": "stdout",
     "output_type": "stream",
     "text": [
      "Largest number is : 89\n"
     ]
    }
   ],
   "source": [
    "#A program processes a list of numbers and needs to find the largest value.\n",
    "\n",
    "list =[3,4,1,67,43,21,11,89,23]\n",
    "largest = list[0]\n",
    "for i in list:\n",
    "    if(i>largest):\n",
    "        largest = i\n",
    "print(\"Largest number is :\",largest)\n"
   ]
  },
  {
   "cell_type": "code",
   "execution_count": null,
   "id": "47f79537-7a02-40aa-a614-e54d4a647edd",
   "metadata": {},
   "outputs": [],
   "source": [
    "#: A company provides employees with a 10% bonus if their salary exceeds $50,000.\n",
    "# Write logic to determine the bonus amount based on the given salary.\n",
    "salary = float(input(\"Enter Salary: \"))\n",
    "bonus = salary/10\n",
    "if(salary > 50000):\n",
    "    print(\"Bounus amount is :\",bonus)\n"
   ]
  },
  {
   "cell_type": "code",
   "execution_count": null,
   "id": "3385fab6-c5ef-47a1-bbf5-5febd03d177e",
   "metadata": {},
   "outputs": [],
   "source": []
  }
 ],
 "metadata": {
  "kernelspec": {
   "display_name": "Python 3 (ipykernel)",
   "language": "python",
   "name": "python3"
  },
  "language_info": {
   "codemirror_mode": {
    "name": "ipython",
    "version": 3
   },
   "file_extension": ".py",
   "mimetype": "text/x-python",
   "name": "python",
   "nbconvert_exporter": "python",
   "pygments_lexer": "ipython3",
   "version": "3.13.5"
  }
 },
 "nbformat": 4,
 "nbformat_minor": 5
}
